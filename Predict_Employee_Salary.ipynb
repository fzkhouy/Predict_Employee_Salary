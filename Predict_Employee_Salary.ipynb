{
  "nbformat": 4,
  "nbformat_minor": 0,
  "metadata": {
    "colab": {
      "name": "Predict_Employee_Salary.ipynb",
      "provenance": [],
      "authorship_tag": "ABX9TyNxdpNCV9MlmQnlUDuwx4pN",
      "include_colab_link": true
    },
    "kernelspec": {
      "name": "python3",
      "display_name": "Python 3"
    },
    "language_info": {
      "name": "python"
    }
  },
  "cells": [
    {
      "cell_type": "markdown",
      "metadata": {
        "id": "view-in-github",
        "colab_type": "text"
      },
      "source": [
        "<a href=\"https://colab.research.google.com/github/fzkhouy/Predict_Employee_Salary/blob/main/Predict_Employee_Salary.ipynb\" target=\"_parent\"><img src=\"https://colab.research.google.com/assets/colab-badge.svg\" alt=\"Open In Colab\"/></a>"
      ]
    },
    {
      "cell_type": "markdown",
      "source": [
        "## **Predict Employee Salary Based on Years of Experience.** Using Linear Regression"
      ],
      "metadata": {
        "id": "N-rHMxaEpklK"
      }
    },
    {
      "cell_type": "markdown",
      "source": [
        "Imprting libraries"
      ],
      "metadata": {
        "id": "S0VBR_FqvjRW"
      }
    },
    {
      "cell_type": "code",
      "execution_count": null,
      "metadata": {
        "id": "-M8ryygjpZqD"
      },
      "outputs": [],
      "source": [
        "import numpy as np\n",
        "import matplotlib.pyplot as plt\n",
        "import pandas as pd \n",
        "import seaborn as sns\n",
        "%matplotlib inline "
      ]
    },
    {
      "cell_type": "markdown",
      "source": [
        "Import dataset and extract dependent and independent variables "
      ],
      "metadata": {
        "id": "XAtVoUZYr0w8"
      }
    },
    {
      "cell_type": "code",
      "source": [
        "# Importing the dataset and extracting the dependent and the independent variables\n"
      ],
      "metadata": {
        "id": "p6Wg4N01sBRB"
      },
      "execution_count": null,
      "outputs": []
    },
    {
      "cell_type": "code",
      "source": [
        "! git add ."
      ],
      "metadata": {
        "id": "n98Bu0BRvvGG"
      },
      "execution_count": null,
      "outputs": []
    },
    {
      "cell_type": "code",
      "source": [
        "! git status"
      ],
      "metadata": {
        "colab": {
          "base_uri": "https://localhost:8080/"
        },
        "id": "lH6YO2dRv0El",
        "outputId": "fef8cc69-97a5-4a4c-c91f-8e2eff8193b1"
      },
      "execution_count": null,
      "outputs": [
        {
          "output_type": "stream",
          "name": "stdout",
          "text": [
            "On branch main\n",
            "Your branch is up to date with 'origin/main'.\n",
            "\n",
            "Changes to be committed:\n",
            "  (use \"git reset HEAD <file>...\" to unstage)\n",
            "\n",
            "\t\u001b[32mnew file:   prog_code.ipynb\u001b[m\n",
            "\n",
            "Changes not staged for commit:\n",
            "  (use \"git add/rm <file>...\" to update what will be committed)\n",
            "  (use \"git checkout -- <file>...\" to discard changes in working directory)\n",
            "\n",
            "\t\u001b[31mdeleted:    prog_code.ipynb\u001b[m\n",
            "\n"
          ]
        }
      ]
    },
    {
      "cell_type": "code",
      "source": [
        "! touch prog_code.ipynb"
      ],
      "metadata": {
        "id": "AixvPG9VwPNc"
      },
      "execution_count": null,
      "outputs": []
    },
    {
      "cell_type": "code",
      "source": [
        "! git add -A"
      ],
      "metadata": {
        "id": "AIGzcuWHwiuU"
      },
      "execution_count": null,
      "outputs": []
    },
    {
      "cell_type": "code",
      "source": [
        "! git commit -m 'Imprting libraries'"
      ],
      "metadata": {
        "colab": {
          "base_uri": "https://localhost:8080/"
        },
        "id": "CqODqhUowmy0",
        "outputId": "6449fcc0-535e-48e4-bd03-b05defeb17fe"
      },
      "execution_count": null,
      "outputs": [
        {
          "output_type": "stream",
          "name": "stdout",
          "text": [
            "On branch main\n",
            "Your branch is up to date with 'origin/main'.\n",
            "\n",
            "nothing to commit, working tree clean\n"
          ]
        }
      ]
    },
    {
      "cell_type": "code",
      "source": [
        "! git push"
      ],
      "metadata": {
        "colab": {
          "base_uri": "https://localhost:8080/"
        },
        "id": "4eujGkFvyA6G",
        "outputId": "085142e8-cc57-4f43-dee4-342fbf299a3a"
      },
      "execution_count": null,
      "outputs": [
        {
          "output_type": "stream",
          "name": "stdout",
          "text": [
            "fatal: could not read Username for 'https://github.com': No such device or address\n"
          ]
        }
      ]
    },
    {
      "cell_type": "code",
      "source": [
        "! git config --global user.email \"f.khouy@enim.ac.ma\"\n",
        "! git config --global user.name \"fzkhouy\""
      ],
      "metadata": {
        "id": "1o1F5upRxzmM"
      },
      "execution_count": null,
      "outputs": []
    }
  ]
}
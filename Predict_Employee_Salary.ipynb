{
  "nbformat": 4,
  "nbformat_minor": 0,
  "metadata": {
    "colab": {
      "name": "Predict_Employee_Salary.ipynb",
      "provenance": [],
      "authorship_tag": "ABX9TyO56phgXxm3Bgy/MMCGRyQ1",
      "include_colab_link": true
    },
    "kernelspec": {
      "name": "python3",
      "display_name": "Python 3"
    },
    "language_info": {
      "name": "python"
    }
  },
  "cells": [
    {
      "cell_type": "markdown",
      "metadata": {
        "id": "view-in-github",
        "colab_type": "text"
      },
      "source": [
        "<a href=\"https://colab.research.google.com/github/fzkhouy/Predict_Employee_Salary/blob/main/Predict_Employee_Salary.ipynb\" target=\"_parent\"><img src=\"https://colab.research.google.com/assets/colab-badge.svg\" alt=\"Open In Colab\"/></a>"
      ]
    },
    {
      "cell_type": "markdown",
      "source": [
        "## **Predict Employee Salary Based on Years of Experience.** Using Linear Regression"
      ],
      "metadata": {
        "id": "N-rHMxaEpklK"
      }
    },
    {
      "cell_type": "markdown",
      "source": [
        "Imprting libraries"
      ],
      "metadata": {
        "id": "S0VBR_FqvjRW"
      }
    },
    {
      "cell_type": "code",
      "execution_count": null,
      "metadata": {
        "id": "-M8ryygjpZqD"
      },
      "outputs": [],
      "source": [
        "import numpy as np\n",
        "import matplotlib.pyplot as plt\n",
        "import pandas as pd \n",
        "import seaborn as sns\n",
        "%matplotlib inline "
      ]
    },
    {
      "cell_type": "markdown",
      "source": [
        "Import dataset and extract dependent and independent variables "
      ],
      "metadata": {
        "id": "XAtVoUZYr0w8"
      }
    },
    {
      "cell_type": "code",
      "source": [
        "# Importing the dataset and extracting the dependent and the independent variables\n",
        "Salary_data = pd.read_csv('Salary_Data.csv')\n",
        "X = Salary_data.iloc[:, :-1].values\n",
        "Y = Salary_data.iloc[:, 1].values"
      ],
      "metadata": {
        "id": "p6Wg4N01sBRB",
        "colab": {
          "base_uri": "https://localhost:8080/"
        },
        "outputId": "d82b02ec-1d63-40ac-9a1e-82ebefb9bdc6"
      },
      "execution_count": 66,
      "outputs": [
        {
          "output_type": "stream",
          "name": "stdout",
          "text": [
            "[[ 1.1]\n",
            " [ 1.3]\n",
            " [ 1.5]\n",
            " [ 2. ]\n",
            " [ 2.2]\n",
            " [ 2.9]\n",
            " [ 3. ]\n",
            " [ 3.2]\n",
            " [ 3.2]\n",
            " [ 3.7]\n",
            " [ 3.9]\n",
            " [ 4. ]\n",
            " [ 4. ]\n",
            " [ 4.1]\n",
            " [ 4.5]\n",
            " [ 4.9]\n",
            " [ 5.1]\n",
            " [ 5.3]\n",
            " [ 5.9]\n",
            " [ 6. ]\n",
            " [ 6.8]\n",
            " [ 7.1]\n",
            " [ 7.9]\n",
            " [ 8.2]\n",
            " [ 8.7]\n",
            " [ 9. ]\n",
            " [ 9.5]\n",
            " [ 9.6]\n",
            " [10.3]\n",
            " [10.5]]\n"
          ]
        }
      ]
    },
    {
      "cell_type": "code",
      "source": [
        "sns.distplot(Salary_data['YearsExperience'], kde = False, bins = 10)"
      ],
      "metadata": {
        "colab": {
          "base_uri": "https://localhost:8080/",
          "height": 351
        },
        "id": "7ARqKq_WAzP0",
        "outputId": "013a90a7-ee08-440f-ed52-6d698b8528d2"
      },
      "execution_count": null,
      "outputs": [
        {
          "output_type": "stream",
          "name": "stderr",
          "text": [
            "/usr/local/lib/python3.7/dist-packages/seaborn/distributions.py:2619: FutureWarning: `distplot` is a deprecated function and will be removed in a future version. Please adapt your code to use either `displot` (a figure-level function with similar flexibility) or `histplot` (an axes-level function for histograms).\n",
            "  warnings.warn(msg, FutureWarning)\n"
          ]
        },
        {
          "output_type": "execute_result",
          "data": {
            "text/plain": [
              "<matplotlib.axes._subplots.AxesSubplot at 0x7f983f4dbe50>"
            ]
          },
          "metadata": {},
          "execution_count": 55
        },
        {
          "output_type": "display_data",
          "data": {
            "image/png": "[encoded data removed]",
            "text/plain": [
              "<Figure size 432x288 with 1 Axes>"
            ]
          },
          "metadata": {
            "needs_background": "light"
          }
        }
      ]
    },
    {
      "cell_type": "code",
      "source": [
        "sns.countplot(y = 'YearsExperience',data = Salary_data)"
      ],
      "metadata": {
        "colab": {
          "base_uri": "https://localhost:8080/",
          "height": 297
        },
        "id": "_pykaneCB6UX",
        "outputId": "bef30bff-a4ab-4073-8d5c-c50d51eac819"
      },
      "execution_count": null,
      "outputs": [
        {
          "output_type": "execute_result",
          "data": {
            "text/plain": [
              "<matplotlib.axes._subplots.AxesSubplot at 0x7f983e1487d0>"
            ]
          },
          "metadata": {},
          "execution_count": 56
        },
        {
          "output_type": "display_data",
          "data": {
            "image/png": "[encoded data removed]",
            "text/plain": [
              "<Figure size 432x288 with 1 Axes>"
            ]
          },
          "metadata": {
            "needs_background": "light"
          }
        }
      ]
    },
    {
      "cell_type": "code",
      "source": [
        "sns.barplot(x = 'YearsExperience', y = 'Salary', data = Salary_data)"
      ],
      "metadata": {
        "colab": {
          "base_uri": "https://localhost:8080/",
          "height": 297
        },
        "id": "8f6lZxUPCXMY",
        "outputId": "da27461a-4bde-4ac2-8312-8d5152c9b5af"
      },
      "execution_count": null,
      "outputs": [
        {
          "output_type": "execute_result",
          "data": {
            "text/plain": [
              "<matplotlib.axes._subplots.AxesSubplot at 0x7f983e01bdd0>"
            ]
          },
          "metadata": {},
          "execution_count": 58
        },
        {
          "output_type": "display_data",
          "data": {
            "image/png": "[encoded data removed]",
            "text/plain": [
              "<Figure size 432x288 with 1 Axes>"
            ]
          },
          "metadata": {
            "needs_background": "light"
          }
        }
      ]
    },
    {
      "cell_type": "code",
      "source": [
        "sns.heatmap(Salary_data.corr())"
      ],
      "metadata": {
        "colab": {
          "base_uri": "https://localhost:8080/",
          "height": 287
        },
        "id": "Whpx85flDUA_",
        "outputId": "d643fa8a-26ff-4ab7-af19-c7c975626805"
      },
      "execution_count": null,
      "outputs": [
        {
          "output_type": "execute_result",
          "data": {
            "text/plain": [
              "<matplotlib.axes._subplots.AxesSubplot at 0x7f983ded6c50>"
            ]
          },
          "metadata": {},
          "execution_count": 59
        },
        {
          "output_type": "display_data",
          "data": {
            "image/png": "[encoded data removed]",
            "text/plain": [
              "<Figure size 432x288 with 2 Axes>"
            ]
          },
          "metadata": {
            "needs_background": "light"
          }
        }
      ]
    },
    {
      "cell_type": "markdown",
      "source": [
        "Splitting the dataset into Training set and Test set"
      ],
      "metadata": {
        "id": "3UNeswkYEXEe"
      }
    },
    {
      "cell_type": "code",
      "source": [
        "from sklearn.model_selection import train_test_split\n",
        "X_train, X_test, Y_train, Y_test = train_test_split(X, Y, test_size = 1/3, random_state = 0)"
      ],
      "metadata": {
        "id": "emx9GdVhESSf"
      },
      "execution_count": 81,
      "outputs": []
    },
    {
      "cell_type": "markdown",
      "source": [
        "fitting Linear regression to the the training set "
      ],
      "metadata": {
        "id": "D5jO63XeFQDl"
      }
    },
    {
      "cell_type": "code",
      "source": [
        "from sklearn.linear_model import LinearRegression\n",
        "Lr_model = LinearRegression()\n",
        "Lr_model.fit(X_train, Y_train)"
      ],
      "metadata": {
        "colab": {
          "base_uri": "https://localhost:8080/"
        },
        "id": "Hk25fD-MFYvO",
        "outputId": "34fc66cc-a69d-4d66-96d7-14ecd463ac5e"
      },
      "execution_count": 82,
      "outputs": [
        {
          "output_type": "execute_result",
          "data": {
            "text/plain": [
              "LinearRegression()"
            ]
          },
          "metadata": {},
          "execution_count": 82
        }
      ]
    },
    {
      "cell_type": "markdown",
      "source": [
        "Predicting the Test Set result"
      ],
      "metadata": {
        "id": "OFgk_prmH69U"
      }
    },
    {
      "cell_type": "code",
      "source": [
        "y_pred = Lr_model.predict(X_test)\n",
        "y_pred"
      ],
      "metadata": {
        "colab": {
          "base_uri": "https://localhost:8080/"
        },
        "id": "WUCiHcsSH5sz",
        "outputId": "549f4dd4-d492-45b2-db9a-f85843ce07ba"
      },
      "execution_count": 83,
      "outputs": [
        {
          "output_type": "execute_result",
          "data": {
            "text/plain": [
              "array([ 40835.10590871, 123079.39940819,  65134.55626083,  63265.36777221,\n",
              "       115602.64545369, 108125.8914992 , 116537.23969801,  64199.96201652,\n",
              "        76349.68719258, 100649.1375447 ])"
            ]
          },
          "metadata": {},
          "execution_count": 83
        }
      ]
    },
    {
      "cell_type": "markdown",
      "source": [
        "Visualizing the training set result"
      ],
      "metadata": {
        "id": "9aRUOufkIQ-8"
      }
    },
    {
      "cell_type": "code",
      "source": [
        "plt.scatter(X_train, Y_train, color = 'green')\n",
        "plt.plot(X_train, Lr_model.predict(X_train), color = 'red')\n",
        "plt.title('Salary ~ Experience (Training set)')\n",
        "plt.xlabel('Years of Experiences')\n",
        "plt.ylabel('Salary')\n",
        "plt.show()"
      ],
      "metadata": {
        "colab": {
          "base_uri": "https://localhost:8080/",
          "height": 295
        },
        "id": "BRV3n4svIZm2",
        "outputId": "5b8cc78d-0304-4c43-b605-922c144ae0cb"
      },
      "execution_count": 84,
      "outputs": [
        {
          "output_type": "display_data",
          "data": {
            "image/png": "[encoded data removed]",
            "text/plain": [
              "<Figure size 432x288 with 1 Axes>"
            ]
          },
          "metadata": {
            "needs_background": "light"
          }
        }
      ]
    },
    {
      "cell_type": "markdown",
      "source": [
        "Visualizing the Test set result"
      ],
      "metadata": {
        "id": "LhqDvAgRJmpu"
      }
    },
    {
      "cell_type": "code",
      "source": [
        "plt.scatter(X_test, Y_test, color = 'blue')\n",
        "plt.plot(X_test, y_pred, Color = 'orange')\n",
        "plt.title('Salary ~ Experience (Test set)')\n",
        "plt.xlabel('Years of Experience')\n",
        "plt.ylabel('Salary')\n",
        "plt.show()"
      ],
      "metadata": {
        "colab": {
          "base_uri": "https://localhost:8080/",
          "height": 295
        },
        "id": "pAd8QLC7Jskc",
        "outputId": "fcc882c4-7b08-4a2e-9a4a-6c8720709fe6"
      },
      "execution_count": 85,
      "outputs": [
        {
          "output_type": "display_data",
          "data": {
            "image/png": "[encoded data removed]",
            "text/plain": [
              "<Figure size 432x288 with 1 Axes>"
            ]
          },
          "metadata": {
            "needs_background": "light"
          }
        }
      ]
    },
    {
      "cell_type": "markdown",
      "source": [
        "Finding the residuals"
      ],
      "metadata": {
        "id": "jweie7IiM55j"
      }
    },
    {
      "cell_type": "code",
      "source": [
        "#Calculating the Residuals\n",
        "from sklearn import metrics\n",
        "print('Mean Absolute Error is :', metrics.mean_absolute_error(Y_test, y_pred))\n",
        "print('Mean Square Error is :', metrics.mean_squared_error(Y_test, y_pred))\n",
        "print ('Root Mean Square Error is :', np.sqrt(metrics.mean_squared_error(Y_test, y_pred)))"
      ],
      "metadata": {
        "colab": {
          "base_uri": "https://localhost:8080/"
        },
        "id": "KUSYsNuTM5R8",
        "outputId": "385943ff-4f7b-42d1-c5f0-95227bee4927"
      },
      "execution_count": 87,
      "outputs": [
        {
          "output_type": "stream",
          "name": "stdout",
          "text": [
            "Mean Absolute Error is : 3426.4269374307078\n",
            "Mean Square Error is : 21026037.329511296\n",
            "Root Mean Square Error is : 4585.4157204675885\n"
          ]
        }
      ]
    }
  ]
}